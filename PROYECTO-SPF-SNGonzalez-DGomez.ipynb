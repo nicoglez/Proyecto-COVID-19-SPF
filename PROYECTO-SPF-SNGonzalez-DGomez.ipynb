{
 "cells": [
  {
   "cell_type": "markdown",
   "metadata": {},
   "source": [
    "<img style=\"float: left; margin: 30px 15px 15px 15px;\" src=\"https://pngimage.net/wp-content/uploads/2018/06/logo-iteso-png-5.png\" width=\"300\" height=\"500\" /> \n",
    "    \n",
    "    \n",
    "### <font color='navy'> Simulación de procesos financieros. \n",
    "\n",
    "**Nombres:** Sean Nicolás González Vázquez y Doris Gomez Contreras.\n",
    "\n",
    "**Fecha:**\n",
    "\n",
    "**Expediente** : 720083, 713897.\n",
    "**Profesor:** Oscar David Jaramillo Zuluaga.\n"
   ]
  },
  {
   "cell_type": "markdown",
   "metadata": {},
   "source": [
    "# <center> <font color='navy'> COVID-19 en Estados Unidos"
   ]
  },
  {
   "cell_type": "markdown",
   "metadata": {},
   "source": [
    " > **Objetivos del proyecto**.\n",
    "\n",
    "    \n",
    "•\t**Objetivo General:** Buscar predecir el comportamiento del virus en el futuro tomando en cuenta la cantidad de positivos.\n",
    "\n",
    "•\t**Objetivo Secundario:** Encontrar por medio de la simulación de Montecarlo la probabilidad de morirse en caso de estar infectado.\n",
    "\n",
    "•\t**Objetivo Secundario:** Encontrar por medio de la simulación de Montecarlo la probabilidad de recuperarse en caso de ser positivo.\n",
    "\n",
    "•\t**Objetivo Secundario:** Encontrar la posibilidad de ser hospitalizado en caso de ser infectado."
   ]
  },
  {
   "cell_type": "markdown",
   "metadata": {},
   "source": [
    "> **Definición del Problema**  \n",
    "\n",
    "El COVID-19 es una enfermedad conocida como coronavirus que ha afectado el mundo entero en cuestión de meses, el primer brote se produjo en Wuhan en diciembre de 2019.\n",
    "\n",
    "En este proyecto buscaremos modelar y simular diferentes variables que van relacionadas con este virus con los datos de Estados Unidos por lo cual nuestro modelo final solo podrá predecir el comportamiento del virus en este país.  \n",
    "\n",
    "\n",
    "> **Escenarios a simular**\n",
    "\n",
    "Los nodos o escenarios que elegimos para simular son la cantidad de :\n",
    "    - Casos positivos\n",
    "    - Personas recuperadas\n",
    "    - Personas hospitalizadas \n",
    "    - Personas fallecidas\n",
    "\n",
    "Elegimos estos nodos debido a que nos parece importante predecir el comportamiento del COVID-19, y con sideramos que estos son los datos más representativos.\n",
    "\n",
    "Los positivos debido a que son la cantidad de personas infectadas, el número de recuperadas para poder analizar qué porcentaje de los casos positivos logran superar el virus, las hospitalizadas que representan las personas que están recibiendo atención médica lo que significa que se encuentran en una situación grave y por último el número de fallecidos que nos indica la mortalidad del virus."
   ]
  },
  {
   "cell_type": "markdown",
   "metadata": {},
   "source": [
    "> **Diagrama**\n",
    "\n",
    "<img style=\"float: left; margin: 30px 15px 15px 15px;\" src=\"https://lh3.googleusercontent.com/pfqqZ9d9QJ88tm7E_pE5pKJGIPVM8IdqKjyfSrV5_KzdEPkzaPun-eaxh-h7xNcjHyVEmgH4zW3Q5xzdM7CdbvQjEzbeb_rteIdBjjZ18VP3zt9oQ8odjKarO-IW_HSERLbiTdVZ1E3c6KspB_vhv2jUA6ComDppPV__K5C0oogzIT8jtLykrfCpirVn1s6fJUt0QGs_W4Fy3yN7s-x5QFsYBNoCSB4SniQanNh8eC-tOw1WiJUut33JxpoShFC2qNH6R3BYNTsmwcfOLK6s6zvN6g6jDmdc8ucJR4t7_jRGonWZmiPDE7-o_jUuuULIzcDEM5-R8XQbnz_5Y8b_hcSnmqNUCBNM61gkX5F5VNlw8utNjs272tNgY__fn9uOUxL6MJUphB2mLTQ0pRiH9WnjgmrCsJ4nCtwvvcahdPhGQWqRieI6BqU9n9tpDDJds2G2EF5dwGq6OBgYY9-H-VosU_CedPLeOrlfS3wYg5scBOG9NuMoq9bh4rMdF_hnQLfueE8GmQHEsciXlTiWPDaevylXgMHE7xz1YEC8tcIOefIlMaSmnKRq63Ewz-XjEanlDGyOjfEmDYNRZfwsT4AtD6S4J1OjhBG9fLmz1sTQPsVusCQLYxOuhfxD3G91I8Zk8pRmtWuI0l55xQESAt4Ge-OrtDW89V1kukTKcVpblJ8dwRjTJnyph7wc=w644-h778-no?authuser=0\" width=\"550\" height=\"550\" /> \n"
   ]
  },
  {
   "cell_type": "markdown",
   "metadata": {},
   "source": [
    "> **Supuestos**\n",
    "\n",
    "•\tEl modelo a realizar únicamente es funcional si y solo sí se predicen o interpretan información o datos para Estados Unidos.  \n",
    "\n",
    "•\tSe va a tomar como el día más reciente el último dato que tiene el dataframe que es la información actualizada al día 249 del año 2020.\n",
    "\n",
    "•\tLas variables a modelar son las más significativas para predecir la información más importante del impacto del virus y su comportamiento.\n"
   ]
  },
  {
   "cell_type": "markdown",
   "metadata": {},
   "source": [
    "> **Hipotesis**"
   ]
  },
  {
   "cell_type": "code",
   "execution_count": 1,
   "metadata": {},
   "outputs": [],
   "source": [
    "# Importacion de todas las librerias necesarias\n",
    "import pandas as pd\n",
    "import numpy as np\n",
    "import matplotlib.pyplot as plt\n",
    "import scipy.stats as st\n",
    "from scipy import optimize"
   ]
  },
  {
   "cell_type": "markdown",
   "metadata": {},
   "source": [
    "## Base de Datos"
   ]
  },
  {
   "cell_type": "markdown",
   "metadata": {},
   "source": [
    "La base de datos fue obtenida del siguiente link, que contiene bases de datos colaborativas para trabajar, los datos estan actualizados al dia 249 del año 2020.\n",
    "\n",
    "[COVID 19 DATA SET ](https://www.kaggle.com/sudalairajkumar/covid19-in-usa)\n",
    "\n",
    "Como comentamos anteriormente seleccionamos los 4 nodos más significativos por lo que realizamos una limpieza a la base de datos descargada pues contenía muchas variables aparte de las necesarias.\n",
    "\n",
    "Posteriormente invertimos el órden de los datos porque originalmente el primer dato era el más actual y decidimos colocarlos de manera ascendente para facilitar su manejo e interpretación."
   ]
  },
  {
   "cell_type": "code",
   "execution_count": 2,
   "metadata": {},
   "outputs": [
    {
     "data": {
      "text/html": [
       "<div>\n",
       "<style scoped>\n",
       "    .dataframe tbody tr th:only-of-type {\n",
       "        vertical-align: middle;\n",
       "    }\n",
       "\n",
       "    .dataframe tbody tr th {\n",
       "        vertical-align: top;\n",
       "    }\n",
       "\n",
       "    .dataframe thead th {\n",
       "        text-align: right;\n",
       "    }\n",
       "</style>\n",
       "<table border=\"1\" class=\"dataframe\">\n",
       "  <thead>\n",
       "    <tr style=\"text-align: right;\">\n",
       "      <th></th>\n",
       "      <th>date</th>\n",
       "      <th>states</th>\n",
       "      <th>positive</th>\n",
       "      <th>negative</th>\n",
       "      <th>pending</th>\n",
       "      <th>hospitalizedCurrently</th>\n",
       "      <th>hospitalizedCumulative</th>\n",
       "      <th>inIcuCurrently</th>\n",
       "      <th>inIcuCumulative</th>\n",
       "      <th>onVentilatorCurrently</th>\n",
       "      <th>...</th>\n",
       "      <th>totalTestResults</th>\n",
       "      <th>lastModified</th>\n",
       "      <th>total</th>\n",
       "      <th>posNeg</th>\n",
       "      <th>deathIncrease</th>\n",
       "      <th>hospitalizedIncrease</th>\n",
       "      <th>negativeIncrease</th>\n",
       "      <th>positiveIncrease</th>\n",
       "      <th>totalTestResultsIncrease</th>\n",
       "      <th>hash</th>\n",
       "    </tr>\n",
       "  </thead>\n",
       "  <tbody>\n",
       "    <tr>\n",
       "      <th>0</th>\n",
       "      <td>20200927</td>\n",
       "      <td>56</td>\n",
       "      <td>7080459</td>\n",
       "      <td>90648092</td>\n",
       "      <td>11136.0</td>\n",
       "      <td>29432.0</td>\n",
       "      <td>404083.0</td>\n",
       "      <td>6080.0</td>\n",
       "      <td>20049.0</td>\n",
       "      <td>1511.0</td>\n",
       "      <td>...</td>\n",
       "      <td>101298794</td>\n",
       "      <td>2020-09-27T00:00:00Z</td>\n",
       "      <td>0</td>\n",
       "      <td>0</td>\n",
       "      <td>307</td>\n",
       "      <td>758</td>\n",
       "      <td>665609</td>\n",
       "      <td>35289</td>\n",
       "      <td>806258</td>\n",
       "      <td>e7c64e674bfc2af02802153452e53628d44c241c</td>\n",
       "    </tr>\n",
       "    <tr>\n",
       "      <th>1</th>\n",
       "      <td>20200926</td>\n",
       "      <td>56</td>\n",
       "      <td>7045170</td>\n",
       "      <td>89982483</td>\n",
       "      <td>11183.0</td>\n",
       "      <td>29554.0</td>\n",
       "      <td>403325.0</td>\n",
       "      <td>6057.0</td>\n",
       "      <td>20002.0</td>\n",
       "      <td>1509.0</td>\n",
       "      <td>...</td>\n",
       "      <td>100492536</td>\n",
       "      <td>2020-09-26T00:00:00Z</td>\n",
       "      <td>0</td>\n",
       "      <td>0</td>\n",
       "      <td>866</td>\n",
       "      <td>1154</td>\n",
       "      <td>886140</td>\n",
       "      <td>47733</td>\n",
       "      <td>1004261</td>\n",
       "      <td>e98f5076c72de4a27a283d22756b7d0b9a44d41f</td>\n",
       "    </tr>\n",
       "    <tr>\n",
       "      <th>2</th>\n",
       "      <td>20200925</td>\n",
       "      <td>56</td>\n",
       "      <td>6997437</td>\n",
       "      <td>89096343</td>\n",
       "      <td>10905.0</td>\n",
       "      <td>29769.0</td>\n",
       "      <td>402171.0</td>\n",
       "      <td>6133.0</td>\n",
       "      <td>19919.0</td>\n",
       "      <td>1506.0</td>\n",
       "      <td>...</td>\n",
       "      <td>99488275</td>\n",
       "      <td>2020-09-25T00:00:00Z</td>\n",
       "      <td>0</td>\n",
       "      <td>0</td>\n",
       "      <td>844</td>\n",
       "      <td>1331</td>\n",
       "      <td>856519</td>\n",
       "      <td>55526</td>\n",
       "      <td>1011675</td>\n",
       "      <td>8d311e73fe038522a1a6be4bc3202de206ec0adb</td>\n",
       "    </tr>\n",
       "    <tr>\n",
       "      <th>3</th>\n",
       "      <td>20200924</td>\n",
       "      <td>56</td>\n",
       "      <td>6941911</td>\n",
       "      <td>88239824</td>\n",
       "      <td>12008.0</td>\n",
       "      <td>30043.0</td>\n",
       "      <td>400840.0</td>\n",
       "      <td>6168.0</td>\n",
       "      <td>19555.0</td>\n",
       "      <td>1560.0</td>\n",
       "      <td>...</td>\n",
       "      <td>98476600</td>\n",
       "      <td>2020-09-24T00:00:00Z</td>\n",
       "      <td>0</td>\n",
       "      <td>0</td>\n",
       "      <td>921</td>\n",
       "      <td>1588</td>\n",
       "      <td>823449</td>\n",
       "      <td>43772</td>\n",
       "      <td>940353</td>\n",
       "      <td>375a88dd29991abc1946cd7f98f4f20a9e37fb5d</td>\n",
       "    </tr>\n",
       "    <tr>\n",
       "      <th>4</th>\n",
       "      <td>20200923</td>\n",
       "      <td>56</td>\n",
       "      <td>6898139</td>\n",
       "      <td>87416375</td>\n",
       "      <td>10535.0</td>\n",
       "      <td>29905.0</td>\n",
       "      <td>399252.0</td>\n",
       "      <td>6113.0</td>\n",
       "      <td>19452.0</td>\n",
       "      <td>1544.0</td>\n",
       "      <td>...</td>\n",
       "      <td>97536247</td>\n",
       "      <td>2020-09-23T00:00:00Z</td>\n",
       "      <td>0</td>\n",
       "      <td>0</td>\n",
       "      <td>1157</td>\n",
       "      <td>1451</td>\n",
       "      <td>800878</td>\n",
       "      <td>38567</td>\n",
       "      <td>923704</td>\n",
       "      <td>b4fe7067370631b26f8e988fd2524b5691235a09</td>\n",
       "    </tr>\n",
       "  </tbody>\n",
       "</table>\n",
       "<p>5 rows × 25 columns</p>\n",
       "</div>"
      ],
      "text/plain": [
       "       date  states  positive  negative  pending  hospitalizedCurrently  \\\n",
       "0  20200927      56   7080459  90648092  11136.0                29432.0   \n",
       "1  20200926      56   7045170  89982483  11183.0                29554.0   \n",
       "2  20200925      56   6997437  89096343  10905.0                29769.0   \n",
       "3  20200924      56   6941911  88239824  12008.0                30043.0   \n",
       "4  20200923      56   6898139  87416375  10535.0                29905.0   \n",
       "\n",
       "   hospitalizedCumulative  inIcuCurrently  inIcuCumulative  \\\n",
       "0                404083.0          6080.0          20049.0   \n",
       "1                403325.0          6057.0          20002.0   \n",
       "2                402171.0          6133.0          19919.0   \n",
       "3                400840.0          6168.0          19555.0   \n",
       "4                399252.0          6113.0          19452.0   \n",
       "\n",
       "   onVentilatorCurrently  ...  totalTestResults          lastModified total  \\\n",
       "0                 1511.0  ...         101298794  2020-09-27T00:00:00Z     0   \n",
       "1                 1509.0  ...         100492536  2020-09-26T00:00:00Z     0   \n",
       "2                 1506.0  ...          99488275  2020-09-25T00:00:00Z     0   \n",
       "3                 1560.0  ...          98476600  2020-09-24T00:00:00Z     0   \n",
       "4                 1544.0  ...          97536247  2020-09-23T00:00:00Z     0   \n",
       "\n",
       "   posNeg  deathIncrease  hospitalizedIncrease negativeIncrease  \\\n",
       "0       0            307                   758           665609   \n",
       "1       0            866                  1154           886140   \n",
       "2       0            844                  1331           856519   \n",
       "3       0            921                  1588           823449   \n",
       "4       0           1157                  1451           800878   \n",
       "\n",
       "   positiveIncrease  totalTestResultsIncrease  \\\n",
       "0             35289                    806258   \n",
       "1             47733                   1004261   \n",
       "2             55526                   1011675   \n",
       "3             43772                    940353   \n",
       "4             38567                    923704   \n",
       "\n",
       "                                       hash  \n",
       "0  e7c64e674bfc2af02802153452e53628d44c241c  \n",
       "1  e98f5076c72de4a27a283d22756b7d0b9a44d41f  \n",
       "2  8d311e73fe038522a1a6be4bc3202de206ec0adb  \n",
       "3  375a88dd29991abc1946cd7f98f4f20a9e37fb5d  \n",
       "4  b4fe7067370631b26f8e988fd2524b5691235a09  \n",
       "\n",
       "[5 rows x 25 columns]"
      ]
     },
     "execution_count": 2,
     "metadata": {},
     "output_type": "execute_result"
    }
   ],
   "source": [
    "# Lectura de Data Frame\n",
    "data = pd.read_csv('us_covid19_daily.csv')\n",
    "data.head()"
   ]
  },
  {
   "cell_type": "markdown",
   "metadata": {},
   "source": [
    "## Limpieza de datos"
   ]
  },
  {
   "cell_type": "code",
   "execution_count": 3,
   "metadata": {},
   "outputs": [
    {
     "data": {
      "text/html": [
       "<div>\n",
       "<style scoped>\n",
       "    .dataframe tbody tr th:only-of-type {\n",
       "        vertical-align: middle;\n",
       "    }\n",
       "\n",
       "    .dataframe tbody tr th {\n",
       "        vertical-align: top;\n",
       "    }\n",
       "\n",
       "    .dataframe thead th {\n",
       "        text-align: right;\n",
       "    }\n",
       "</style>\n",
       "<table border=\"1\" class=\"dataframe\">\n",
       "  <thead>\n",
       "    <tr style=\"text-align: right;\">\n",
       "      <th></th>\n",
       "      <th>positives</th>\n",
       "      <th>recovered</th>\n",
       "      <th>hospitalized</th>\n",
       "      <th>death</th>\n",
       "    </tr>\n",
       "    <tr>\n",
       "      <th>index</th>\n",
       "      <th></th>\n",
       "      <th></th>\n",
       "      <th></th>\n",
       "      <th></th>\n",
       "    </tr>\n",
       "  </thead>\n",
       "  <tbody>\n",
       "    <tr>\n",
       "      <th>0</th>\n",
       "      <td>0</td>\n",
       "      <td>0.0</td>\n",
       "      <td>0.0</td>\n",
       "      <td>0.0</td>\n",
       "    </tr>\n",
       "    <tr>\n",
       "      <th>1</th>\n",
       "      <td>0</td>\n",
       "      <td>0.0</td>\n",
       "      <td>0.0</td>\n",
       "      <td>0.0</td>\n",
       "    </tr>\n",
       "    <tr>\n",
       "      <th>2</th>\n",
       "      <td>0</td>\n",
       "      <td>0.0</td>\n",
       "      <td>0.0</td>\n",
       "      <td>0.0</td>\n",
       "    </tr>\n",
       "    <tr>\n",
       "      <th>3</th>\n",
       "      <td>0</td>\n",
       "      <td>0.0</td>\n",
       "      <td>0.0</td>\n",
       "      <td>0.0</td>\n",
       "    </tr>\n",
       "    <tr>\n",
       "      <th>4</th>\n",
       "      <td>0</td>\n",
       "      <td>0.0</td>\n",
       "      <td>0.0</td>\n",
       "      <td>0.0</td>\n",
       "    </tr>\n",
       "    <tr>\n",
       "      <th>...</th>\n",
       "      <td>...</td>\n",
       "      <td>...</td>\n",
       "      <td>...</td>\n",
       "      <td>...</td>\n",
       "    </tr>\n",
       "    <tr>\n",
       "      <th>245</th>\n",
       "      <td>6898139</td>\n",
       "      <td>2672338.0</td>\n",
       "      <td>29905.0</td>\n",
       "      <td>193931.0</td>\n",
       "    </tr>\n",
       "    <tr>\n",
       "      <th>246</th>\n",
       "      <td>6941911</td>\n",
       "      <td>2710183.0</td>\n",
       "      <td>30043.0</td>\n",
       "      <td>194852.0</td>\n",
       "    </tr>\n",
       "    <tr>\n",
       "      <th>247</th>\n",
       "      <td>6997437</td>\n",
       "      <td>2727335.0</td>\n",
       "      <td>29769.0</td>\n",
       "      <td>195696.0</td>\n",
       "    </tr>\n",
       "    <tr>\n",
       "      <th>248</th>\n",
       "      <td>7045170</td>\n",
       "      <td>2750459.0</td>\n",
       "      <td>29554.0</td>\n",
       "      <td>196562.0</td>\n",
       "    </tr>\n",
       "    <tr>\n",
       "      <th>249</th>\n",
       "      <td>7080459</td>\n",
       "      <td>2766280.0</td>\n",
       "      <td>29432.0</td>\n",
       "      <td>196869.0</td>\n",
       "    </tr>\n",
       "  </tbody>\n",
       "</table>\n",
       "<p>250 rows × 4 columns</p>\n",
       "</div>"
      ],
      "text/plain": [
       "       positives  recovered  hospitalized     death\n",
       "index                                              \n",
       "0              0        0.0           0.0       0.0\n",
       "1              0        0.0           0.0       0.0\n",
       "2              0        0.0           0.0       0.0\n",
       "3              0        0.0           0.0       0.0\n",
       "4              0        0.0           0.0       0.0\n",
       "...          ...        ...           ...       ...\n",
       "245      6898139  2672338.0       29905.0  193931.0\n",
       "246      6941911  2710183.0       30043.0  194852.0\n",
       "247      6997437  2727335.0       29769.0  195696.0\n",
       "248      7045170  2750459.0       29554.0  196562.0\n",
       "249      7080459  2766280.0       29432.0  196869.0\n",
       "\n",
       "[250 rows x 4 columns]"
      ]
     },
     "execution_count": 3,
     "metadata": {},
     "output_type": "execute_result"
    }
   ],
   "source": [
    "clean_data = pd.DataFrame()\n",
    "# Filtrar las variables a analizar\n",
    "clean_data['positives'] = data.T.loc['positive']\n",
    "clean_data['recovered'] = data.T.loc['recovered']\n",
    "clean_data['hospitalized'] = data.T.loc['hospitalizedCurrently']\n",
    "clean_data['death'] = data.T.loc['death']\n",
    "# Invertir datos para tener los valores iniciales al principio\n",
    "clean_data = clean_data.iloc[::-1] \n",
    "# Reemplazar index por uno que tenga los vlores de forma descendiente\n",
    "clean_data['index'] = [i for i in range(len(clean_data['death']))]\n",
    "clean_data.set_index('index', inplace = True)\n",
    "# Llenar valores nulos con ceros\n",
    "clean_data.fillna(0, inplace = True)\n",
    "# Mostrar la cola del data frame\n",
    "clean_data"
   ]
  },
  {
   "cell_type": "markdown",
   "metadata": {},
   "source": [
    "# Analisis inicial de datos"
   ]
  },
  {
   "cell_type": "code",
   "execution_count": 4,
   "metadata": {},
   "outputs": [
    {
     "name": "stdout",
     "output_type": "stream",
     "text": [
      "The mean of positives data in USA is 2336213.772\n",
      "The variance of positives data in USA is 2292372.2932224027\n"
     ]
    },
    {
     "data": {
      "image/png": "[encoded data removed]",
      "text/plain": [
       "<Figure size 432x288 with 1 Axes>"
      ]
     },
     "metadata": {
      "needs_background": "light"
     },
     "output_type": "display_data"
    },
    {
     "name": "stdout",
     "output_type": "stream",
     "text": [
      "The mean of recovered data in USA is 756653.328\n",
      "The variance of recovered data in USA is 861485.7768200033\n"
     ]
    },
    {
     "data": {
      "image/png": "[encoded data removed]",
      "text/plain": [
       "<Figure size 432x288 with 1 Axes>"
      ]
     },
     "metadata": {
      "needs_background": "light"
     },
     "output_type": "display_data"
    },
    {
     "name": "stdout",
     "output_type": "stream",
     "text": [
      "The mean of hospitalized data in USA is 30959.568\n",
      "The variance of hospitalized data in USA is 20736.197725460082\n"
     ]
    },
    {
     "data": {
      "image/png": "[encoded data removed]",
      "text/plain": [
       "<Figure size 432x288 with 1 Axes>"
      ]
     },
     "metadata": {
      "needs_background": "light"
     },
     "output_type": "display_data"
    },
    {
     "name": "stdout",
     "output_type": "stream",
     "text": [
      "The mean of death data in USA is 84069.96\n",
      "The variance of death data in USA is 68046.3522862938\n"
     ]
    },
    {
     "data": {
      "image/png": "[encoded data removed]",
      "text/plain": [
       "<Figure size 432x288 with 1 Axes>"
      ]
     },
     "metadata": {
      "needs_background": "light"
     },
     "output_type": "display_data"
    }
   ],
   "source": [
    "# Plotear los datos que tenemos individualmente para poder analizar cada uno por separado\n",
    "color_index = 0\n",
    "colors = \"bgrcmykw\"\n",
    "# plotear cada uno\n",
    "for i in range(len([c for c in clean_data])):\n",
    "    plt.plot(clean_data.iloc[:,i],label = [c for c in clean_data][i], c = colors[color_index])\n",
    "    print('The mean of', [c for c in clean_data][i], 'data in USA is', np.array(clean_data.iloc[:,i]).mean())\n",
    "    print('The variance of', [c for c in clean_data][i], 'data in USA is', np.array(clean_data.iloc[:,i]).std())\n",
    "    color_index += 1\n",
    "    plt.xlabel('Time')\n",
    "    plt.ylabel([c for c in clean_data][i])\n",
    "    plt.legend()\n",
    "    plt.grid()\n",
    "    plt.show()"
   ]
  },
  {
   "cell_type": "markdown",
   "metadata": {},
   "source": [
    "## <center> <font color='navy'> Simulacion de Montecarlo <center> <font color='navy'>\n",
    "\n",
    "Pasos para la simulacion de datos\n",
    "\n",
    "- Estimar f\n",
    "- Aplicar metodos de generacion de variables aleatorias\n",
    "    * Aplicar tecnicas de reduccion de varianza\n",
    "* Obtener distribucion de probabilidad\n",
    "* Aplicar Montecarlo\n"
   ]
  },
  {
   "cell_type": "markdown",
   "metadata": {},
   "source": [
    "## Simulacion para escenario 1: **Positivos**"
   ]
  },
  {
   "cell_type": "code",
   "execution_count": 5,
   "metadata": {},
   "outputs": [],
   "source": [
    "# nombrar variable que contenga datos del df determinados\n",
    "positivos = clean_data['positives']"
   ]
  },
  {
   "cell_type": "code",
   "execution_count": 6,
   "metadata": {},
   "outputs": [
    {
     "data": {
      "image/png": "[encoded data removed]",
      "text/plain": [
       "<Figure size 432x288 with 1 Axes>"
      ]
     },
     "metadata": {
      "needs_background": "light"
     },
     "output_type": "display_data"
    }
   ],
   "source": [
    "# plotear histograma de los datos\n",
    "plt.hist(positivos,bins = 35, density = True );"
   ]
  },
  {
   "cell_type": "markdown",
   "metadata": {},
   "source": [
    "### Estimacion de la f para el metodo de la transformada inversa por medio de la comprobacion de distribucion de probabilidad "
   ]
  },
  {
   "cell_type": "code",
   "execution_count": 7,
   "metadata": {},
   "outputs": [
    {
     "name": "stdout",
     "output_type": "stream",
     "text": [
      "El error de la distribucion beta es de 45.368627392565465 %\n",
      "El error de la distribucion expon es de 94.75727264737868 %\n",
      "El error de la distribucion exponnorm es de 94.7086940260496 %\n",
      "El error de la distribucion laplace es de 141.08982840026493 %\n",
      "El error de la distribucion gamma es de 315.09684363011 %\n",
      "El error de la distribucion lognorm es de 7762.00359092724 %\n",
      "El error de la distribucion norm es de 98.72325182480168 %\n",
      "El error de la distribucion uniform es de 58.39999999999999 %\n"
     ]
    },
    {
     "data": {
      "image/png": "[encoded data removed]",
      "text/plain": [
       "<Figure size 432x288 with 1 Axes>"
      ]
     },
     "metadata": {
      "needs_background": "light"
     },
     "output_type": "display_data"
    }
   ],
   "source": [
    "data = positivos\n",
    "\n",
    "# Probar diferentes distirbuciones de probabilidad\n",
    "dist_list = [ 'beta','expon', 'exponnorm', 'laplace','gamma', 'lognorm','norm','uniform']\n",
    "\n",
    "y_real, x_real,  _ = plt.hist(data, bins = 35, density = True) #hacer histograma\n",
    "\n",
    "x_real = x_real[1:] # modificar shape para que rea igual\n",
    "\n",
    "#e = []\n",
    "def distribucion(dist_list):\n",
    "    \n",
    "    def imprimir(dist):\n",
    "        param = getattr(st, dist).fit(data)\n",
    "        y_est = getattr(st, dist).pdf(x_real, *param)\n",
    "        plt.plot(x_real,y_est, label = dist);\n",
    "        print('El error de la distribucion', dist,'es de', (abs(y_real-y_est)*100/y_est).mean(),'%')\n",
    "        \n",
    "    [imprimir(dist) for dist in dist_list]\n",
    "\n",
    "\n",
    "distribucion(dist_list)\n",
    "plt.legend()\n",
    "plt.show()\n"
   ]
  },
  {
   "cell_type": "markdown",
   "metadata": {},
   "source": [
    "Podemos notar que la distribucion que menor error tuvo fue la de la distribucion beta, con un error de 45%, procederemos a hacer una prueba de Q-Q para comprobar que la distribucion que tenemos es beta.\n",
    "\n",
    "Aplicando como hipotesis iniciales que:\n",
    "\n",
    "* H0: El conjunto de datos distribuye como una funcion de distribucion beta\n",
    "* H1: El conjunto de datos distribuye como cualquier otra distribucion de probabilidad"
   ]
  },
  {
   "cell_type": "code",
   "execution_count": 8,
   "metadata": {},
   "outputs": [
    {
     "data": {
      "image/png": "[encoded data removed]",
      "text/plain": [
       "<Figure size 576x648 with 2 Axes>"
      ]
     },
     "metadata": {
      "needs_background": "light"
     },
     "output_type": "display_data"
    }
   ],
   "source": [
    "# Histograma de las variables creadas\n",
    "fig, ax = plt.subplots(2,1, figsize=(8,9))\n",
    "\n",
    "y, x, _ = ax[0].hist(data,bins = 35, density=True)\n",
    "x = x[1:]\n",
    "plt.grid()\n",
    "ax[0].grid()\n",
    "#datos\n",
    "dist = 'beta'\n",
    "params = getattr(st, dist).fit(data)\n",
    "# Graficar PDF de la distribución que queremos probar\n",
    "y = getattr(st, dist).pdf(x, *params)\n",
    "ax[0].plot(x,y,'r--')\n",
    "ax[0].set_ylabel('Probability')\n",
    "\n",
    "import statsmodels.api as sm \n",
    "grap1 = sm.qqplot(data, dist=dist, line='q', fit=True, ax=ax[1])\n"
   ]
  },
  {
   "cell_type": "markdown",
   "metadata": {},
   "source": [
    "**Conclusion**\n",
    "\n",
    "Podemos observar que los quantiles de los datos reales no se ajustan de manera correcta a los quantiles de la distribucion beta, al inicio, en medio y al final en su mayoria, por lo cual, al tratar de modelar los datos que se tienen con una distribucion beta, se tendria mucho error, por lo cual,  **Se rechaza H0**.\n",
    "\n",
    "En conclusion la distribucion beta no es aceptable para modelar este conjunto de datos, asi que se procedera a encontrar una f con Kernel Density Estimation"
   ]
  },
  {
   "cell_type": "markdown",
   "metadata": {},
   "source": [
    "### Estimacion de la f para el metodo de aceptacion rechazo con Kernel Density Estimation"
   ]
  },
  {
   "cell_type": "code",
   "execution_count": 9,
   "metadata": {},
   "outputs": [],
   "source": [
    "from statsmodels.nonparametric.kernel_density import KDEMultivariate\n",
    "\n",
    "# funcion que retorna una funcion de densidad de probabilidad de un conjunto de datos\n",
    "def kde_statsmodels_mf(x, **kwargs):\n",
    "    \"\"\"Multivariate Kernel Density Estimation with Statsmodels\"\"\"\n",
    "    kde = KDEMultivariate(x, \n",
    "                          bw='cv_ml',\n",
    "                          var_type='c', **kwargs)\n",
    "    return lambda x_grid: kde.pdf(x_grid)"
   ]
  },
  {
   "cell_type": "code",
   "execution_count": 10,
   "metadata": {},
   "outputs": [
    {
     "name": "stderr",
     "output_type": "stream",
     "text": [
      "C:\\Users\\nicol\\anaconda3\\lib\\site-packages\\statsmodels\\nonparametric\\kernel_density.py:158: RuntimeWarning: invalid value encountered in log\n",
      "  L += func(f_i)\n",
      "C:\\Users\\nicol\\anaconda3\\lib\\site-packages\\statsmodels\\nonparametric\\kernel_density.py:158: RuntimeWarning: divide by zero encountered in log\n",
      "  L += func(f_i)\n"
     ]
    },
    {
     "data": {
      "image/png": "[encoded data removed]",
      "text/plain": [
       "<Figure size 432x288 with 1 Axes>"
      ]
     },
     "metadata": {
      "needs_background": "light"
     },
     "output_type": "display_data"
    }
   ],
   "source": [
    "func_positivos = kde_statsmodels_mf(positivos)\n",
    "x_g = np.arange(0,7e6,100)\n",
    "plt.figure()\n",
    "plt.plot(x_g,func_positivos(x_g));\n",
    "plt.hist(positivos,bins = 35, density = True);\n",
    "plt.show()"
   ]
  },
  {
   "cell_type": "markdown",
   "metadata": {},
   "source": [
    "### Metodo de aceptacion rechazo con KDE\n",
    "\n",
    "Procedemos a aplicar el metodo de aceptacion rechazo con la funcion obtenida por KDE"
   ]
  },
  {
   "cell_type": "code",
   "execution_count": 11,
   "metadata": {},
   "outputs": [
    {
     "data": {
      "text/plain": [
       "[<matplotlib.lines.Line2D at 0x1a3e1600700>]"
      ]
     },
     "execution_count": 11,
     "metadata": {},
     "output_type": "execute_result"
    },
    {
     "data": {
      "image/png": "[encoded data removed]",
      "text/plain": [
       "<Figure size 432x288 with 1 Axes>"
      ]
     },
     "metadata": {
      "needs_background": "light"
     },
     "output_type": "display_data"
    }
   ],
   "source": [
    "# la funcion obtenenida por kde es la siguiente\n",
    "f = func_positivos\n",
    "# encontrar el maximo de la funcion y plotearlo\n",
    "x = np.arange(0,10e6,100)\n",
    "max_fp = f(optimize.fmin(lambda x:-f(x),0,disp=False))\n",
    "plt.plot(0,max_fp,'x',lw = 10)\n",
    "plt.plot(x,func_positivos(x))"
   ]
  },
  {
   "cell_type": "markdown",
   "metadata": {},
   "source": [
    "#### Generacion de variables aleatorias montecarlo crudo"
   ]
  },
  {
   "cell_type": "code",
   "execution_count": 16,
   "metadata": {},
   "outputs": [
    {
     "data": {
      "text/plain": [
       "1000"
      ]
     },
     "execution_count": 16,
     "metadata": {},
     "output_type": "execute_result"
    }
   ],
   "source": [
    "def acep_rechazo_positivos(f:'función objetivo a generar',\n",
    "                 max_f:'maximo de la funcion',\n",
    "                 N: 'numero de variables aleatorias distribuidas a generar'):\n",
    "    '''Funcion para hacer el metodo de aceptacion de rechazo especificamente para los datos de covid positivos,\n",
    "    regresa las variables aleatorias aceptadas'''\n",
    "    X = np.zeros(N)\n",
    "    i = 0 \n",
    "    \n",
    "    while i < N:\n",
    "        R2 = np.random.uniform(0,max_f) \n",
    "        R1 = np.random.uniform(0,8e6,1)\n",
    "        if R2 < f(R1):\n",
    "            X[i] = R1\n",
    "            i+=1\n",
    "    return X\n",
    "\n",
    "\n",
    "f = func_positivos # funcion\n",
    "N = 1000 # numero de variables que distribuyen como f a generar\n",
    "\n",
    "# Usar func anteriormente definida como acep_rechazo_aleatorias que genera variables aleatorias\n",
    "var_aleatorias_montecarlo_p = acep_rechazo_positivos(f,max_fp,N)\n",
    "len(var_aleatorias_montecarlo_p)"
   ]
  },
  {
   "cell_type": "code",
   "execution_count": 19,
   "metadata": {},
   "outputs": [
    {
     "data": {
      "image/png": "[encoded data removed]",
      "text/plain": [
       "<Figure size 432x288 with 1 Axes>"
      ]
     },
     "metadata": {
      "needs_background": "light"
     },
     "output_type": "display_data"
    }
   ],
   "source": [
    "x = np.arange(0,7.5e6,100)\n",
    "plt.figure()\n",
    "plt.plot(x,f(x))\n",
    "plt.hist(var_aleatorias_montecarlo_p,bins = 70, density = True);\n",
    "plt.show()"
   ]
  },
  {
   "cell_type": "markdown",
   "metadata": {},
   "source": [
    "#### Generacion de variables aleatorias por medio de reduccion de varianza \n",
    "\n",
    "Nota: El hecho de utilizar tecnicas de reduccion de varianza no tendria sentido a la hora de utilizar el metodo de aceptacion rechazo, debido a que, como el metodo se basa en generar variables por medio del metodo de prueba y error, es decir, algunas variables aleatorias generadas las toma y otras no, dependiendo de si estan dentro de f(x), por lo cual, el numero y rango de las variables aleatorias que si toma depende de la aleatoriedad de los datos, mientras que los dos metodos de reduccion de varianza (numeros complementarias y estratificado) necesitan una cantidad definida de N variables a generar para estratificar la muestra, asi que no tiene sentido juntar ambos metodos por las siguientes razones:\n",
    "\n",
    "* Al ser el metodo de aceptacion rechazo dependiente de la cantidad que acepte y/o no acepte, no se puede definir una N de variables que se generaran para probar, cosa que necesitan los metodos de reduccion de varianza.\n",
    "* Suponiendo que se aplique el metodo hay cierto grado de posibilidad de que se acepte ciertas variables en un rango y en otro no, cosa que podria causar un sesgo en los resultados y ocasionando que las variables no necesariamente distribuyan como la f(x)\n",
    "\n",
    "Conclusion: Si bien las tecnicas de reduccion de varianza son muy utiles y optimas para el caso en el cual generes variables aleatorias por medio del metodo de la transformada inversa, no es tan util para utilizar con el metdoo de aceptacion y rechazo."
   ]
  },
  {
   "cell_type": "markdown",
   "metadata": {},
   "source": [
    "#### Montecarlo y media de los datos"
   ]
  },
  {
   "cell_type": "code",
   "execution_count": 20,
   "metadata": {},
   "outputs": [
    {
     "name": "stdout",
     "output_type": "stream",
     "text": [
      "Con una confianza de 0.90 la media del numero de positivos estará en el intervalo t,\n",
      " (2374995.1746584964, 2605546.337791159)\n",
      "Con una confianza de 0.90 la media del numero de positivos estará en el intervalo normal,\n",
      " (2375102.071804533, 2605439.440645123)\n",
      "Media calculada del numero de positivos 2490270.756224828\n"
     ]
    }
   ],
   "source": [
    "# Intervalos de confianza y media de los datos\n",
    "X = var_aleatorias_montecarlo_p\n",
    "N = 10**5\n",
    "confianza = 0.90\n",
    "i1 = st.t.interval(confianza,len(X)-1, loc=np.mean(X), scale=st.sem(X))\n",
    "i2 = st.norm.interval(confianza, loc=np.mean(X), scale=st.sem(X))\n",
    "media_positivos = np.mean(X)\n",
    "print('Con una confianza de %2.2f la media del numero de positivos estará en el intervalo t,\\n %s' %(confianza,i1))\n",
    "print('Con una confianza de %2.2f la media del numero de positivos estará en el intervalo normal,\\n %s' %(confianza,i2))\n",
    "print('Media calculada del numero de positivos' ,media_positivos)"
   ]
  },
  {
   "cell_type": "code",
   "execution_count": 21,
   "metadata": {},
   "outputs": [
    {
     "name": "stdout",
     "output_type": "stream",
     "text": [
      "El porcentaje de error entre la media real y la media estimada con montecarlo fue de 6.186354790527818 %\n"
     ]
    }
   ],
   "source": [
    "error_positivos = abs(np.array(clean_data['positives']).mean() - media_positivos)/media_positivos\n",
    "print('El porcentaje de error entre la media real y la media estimada con montecarlo fue de', error_positivos*100,'%')"
   ]
  },
  {
   "cell_type": "markdown",
   "metadata": {},
   "source": [
    "## Simulacion para escenario 2: **Muertos**"
   ]
  },
  {
   "cell_type": "code",
   "execution_count": 22,
   "metadata": {},
   "outputs": [],
   "source": [
    "# nombrar variable que contenga datos del df determinados\n",
    "muertos = clean_data['death']"
   ]
  },
  {
   "cell_type": "code",
   "execution_count": 23,
   "metadata": {},
   "outputs": [
    {
     "data": {
      "image/png": "[encoded data removed]",
      "text/plain": [
       "<Figure size 432x288 with 1 Axes>"
      ]
     },
     "metadata": {
      "needs_background": "light"
     },
     "output_type": "display_data"
    }
   ],
   "source": [
    "# Plotear histograma\n",
    "plt.hist(muertos,bins = 35, density = True);"
   ]
  },
  {
   "cell_type": "markdown",
   "metadata": {},
   "source": [
    "### Estimacion de la f para el metodo de la transformada inversa por medio de la comprobacion de distribucion de probabilidad "
   ]
  },
  {
   "cell_type": "code",
   "execution_count": 24,
   "metadata": {},
   "outputs": [
    {
     "name": "stderr",
     "output_type": "stream",
     "text": [
      "C:\\Users\\nicol\\anaconda3\\lib\\site-packages\\scipy\\stats\\_distn_infrastructure.py:2429: RuntimeWarning: invalid value encountered in double_scalars\n",
      "  Lhat = muhat - Shat*mu\n",
      "C:\\Users\\nicol\\anaconda3\\lib\\site-packages\\scipy\\stats\\_continuous_distns.py:1605: RuntimeWarning: divide by zero encountered in log\n",
      "  return exparg + np.log(0.5 * invK * sc.erfc(-(x - invK) / np.sqrt(2)))\n"
     ]
    },
    {
     "name": "stdout",
     "output_type": "stream",
     "text": [
      "El error de la distribucion alpha es de 2599561.3250778564 %\n",
      "El error de la distribucion beta es de 119.05213097193115 %\n",
      "El error de la distribucion expon es de 116.48689838211921 %\n",
      "El error de la distribucion exponnorm es de 101.51243095348057 %\n",
      "El error de la distribucion gamma es de 101.63272809632117 %\n",
      "El error de la distribucion laplace es de 130.42228427015272 %\n",
      "El error de la distribucion lognorm es de 3574.815080863253 %\n",
      "El error de la distribucion norm es de 101.51239750000201 %\n",
      "El error de la distribucion uniform es de 58.62857142857142 %\n"
     ]
    },
    {
     "data": {
      "image/png": "[encoded data removed]",
      "text/plain": [
       "<Figure size 432x288 with 1 Axes>"
      ]
     },
     "metadata": {
      "needs_background": "light"
     },
     "output_type": "display_data"
    }
   ],
   "source": [
    "data = muertos\n",
    "\n",
    "# Probar diferentes distirbuciones de probabilidad\n",
    "dist_list = ['alpha', 'beta','expon', 'exponnorm','gamma', 'laplace', 'lognorm','norm','uniform']\n",
    "\n",
    "y_real, x_real,  _ = plt.hist(data, bins = 35, density = True) #hacer histograma\n",
    "\n",
    "x_real = x_real[1:] # modificar shape para que rea igual\n",
    "\n",
    "#e = []\n",
    "def distribucion(dist_list):\n",
    "    \n",
    "    def imprimir(dist):\n",
    "        param = getattr(st, dist).fit(data)\n",
    "        y_est = getattr(st, dist).pdf(x_real, *param)\n",
    "        plt.plot(x_real,y_est, label = dist);\n",
    "        print('El error de la distribucion', dist,'es de', (abs(y_real-y_est)/y_est).mean()*100,'%')\n",
    "        \n",
    "    [imprimir(dist) for dist in dist_list]\n",
    "\n",
    "\n",
    "distribucion(dist_list)\n",
    "plt.legend()\n",
    "plt.show()"
   ]
  },
  {
   "cell_type": "markdown",
   "metadata": {},
   "source": [
    "Podemos notar que la distribucion que menor error tuvo fue la de la distribucion uniforme, con un error de 58.62%, procederemos a hacer una prueba de Q-Q para comprobar que la distribucion que tenemos es uniforme.\n",
    "\n",
    "Aplicando como hipotesis iniciales que:\n",
    "\n",
    "* H0: El conjunto de datos distribuye como una funcion de distribucion uniforme\n",
    "* H1: El conjunto de datos distribuye como cualquier otra distribucion de probabilidad"
   ]
  },
  {
   "cell_type": "code",
   "execution_count": 25,
   "metadata": {},
   "outputs": [
    {
     "data": {
      "image/png": "[encoded data removed]",
      "text/plain": [
       "<Figure size 576x648 with 2 Axes>"
      ]
     },
     "metadata": {
      "needs_background": "light"
     },
     "output_type": "display_data"
    }
   ],
   "source": [
    "# Histograma de las variables creadas\n",
    "fig, ax = plt.subplots(2,1, figsize=(8,9))\n",
    "\n",
    "y, x, _ = ax[0].hist(data,bins = 35, density=True)\n",
    "x = x[1:]\n",
    "plt.grid()\n",
    "ax[0].grid()\n",
    "#datos\n",
    "dist = 'uniform'\n",
    "params = getattr(st, dist).fit(data)\n",
    "# Graficar PDF de la distribución que queremos probar\n",
    "y = getattr(st, dist).pdf(x, *params)\n",
    "ax[0].plot(x,y,'r--')\n",
    "ax[0].set_ylabel('Probability')\n",
    "\n",
    "import statsmodels.api as sm \n",
    "grap1 = sm.qqplot(data, dist=dist, line='q', fit=True, ax=ax[1])\n"
   ]
  },
  {
   "cell_type": "markdown",
   "metadata": {},
   "source": [
    "**Conclusion**\n",
    "\n",
    "Podemos observar que los quantiles de los datos reales no se ajustan de manera correcta a los quantiles de la distribucion uniforme, aunque en algunos lados si se acomoda, en general al tratar de modelar los datos que se tienen con una distribucion beta, se tendria mucho error, por lo cual,  **Se rechaza H0**.\n",
    "\n",
    "En conclusion la distribucion uniforme no es aceptable para modelar este conjunto de datos, asi que se procedera a encontrar una f con Kernel Density Estimation"
   ]
  },
  {
   "cell_type": "markdown",
   "metadata": {},
   "source": [
    "### Estimacion de la f para el metodo de aceptacion rechazo con Kernel Density Estimation"
   ]
  },
  {
   "cell_type": "code",
   "execution_count": 26,
   "metadata": {},
   "outputs": [
    {
     "name": "stderr",
     "output_type": "stream",
     "text": [
      "C:\\Users\\nicol\\anaconda3\\lib\\site-packages\\statsmodels\\nonparametric\\kernel_density.py:158: RuntimeWarning: invalid value encountered in log\n",
      "  L += func(f_i)\n",
      "C:\\Users\\nicol\\anaconda3\\lib\\site-packages\\statsmodels\\nonparametric\\kernel_density.py:158: RuntimeWarning: divide by zero encountered in log\n",
      "  L += func(f_i)\n"
     ]
    },
    {
     "data": {
      "image/png": "[encoded data removed]",
      "text/plain": [
       "<Figure size 432x288 with 1 Axes>"
      ]
     },
     "metadata": {
      "needs_background": "light"
     },
     "output_type": "display_data"
    }
   ],
   "source": [
    "func_muertos = kde_statsmodels_mf(muertos)\n",
    "x_m = np.arange(0,200000,100)\n",
    "plt.figure()\n",
    "plt.plot(x_m,func_muertos(x_m));\n",
    "plt.hist(muertos,bins = 35, density = True);\n",
    "plt.show()"
   ]
  },
  {
   "cell_type": "markdown",
   "metadata": {},
   "source": [
    "### Metodo de aceptacion rechazo con KDE\n",
    "\n",
    "Procedemos a aplicar el metodo de aceptacion rechazo con la funcion obtenida por KDE"
   ]
  },
  {
   "cell_type": "code",
   "execution_count": 27,
   "metadata": {},
   "outputs": [
    {
     "data": {
      "text/plain": [
       "[<matplotlib.lines.Line2D at 0x1a3e3520e20>]"
      ]
     },
     "execution_count": 27,
     "metadata": {},
     "output_type": "execute_result"
    },
    {
     "data": {
      "image/png": "[encoded data removed]",
      "text/plain": [
       "<Figure size 432x288 with 1 Axes>"
      ]
     },
     "metadata": {
      "needs_background": "light"
     },
     "output_type": "display_data"
    }
   ],
   "source": [
    "# la funcion obtenenida por kde es la siguiente\n",
    "f = func_muertos\n",
    "# encontrar el maximo de la funcion y plotearlo\n",
    "x = np.arange(0,200000,100)\n",
    "max_fm = f(optimize.fmin(lambda x:-f(x),0,disp=False))\n",
    "plt.plot(0,max_fm,'x',lw = 10)\n",
    "plt.plot(x,func_muertos(x))"
   ]
  },
  {
   "cell_type": "markdown",
   "metadata": {},
   "source": [
    "#### Generacion de variables aleatorias montecarlo crudo"
   ]
  },
  {
   "cell_type": "code",
   "execution_count": 42,
   "metadata": {},
   "outputs": [
    {
     "data": {
      "text/plain": [
       "1000"
      ]
     },
     "execution_count": 42,
     "metadata": {},
     "output_type": "execute_result"
    }
   ],
   "source": [
    "def acep_rechazo_muertos(f:'función objetivo a generar',\n",
    "                 max_f:'maximo de la funcion',\n",
    "                 N: 'numero de variables aleatorias distribuidas a generar'):\n",
    "    '''Funcion para hacer el metodo de aceptacion de rechazo especificamente para los datos de covid muertos,\n",
    "    regresa las variables aleatorias aceptadas'''\n",
    "    X = np.zeros(N)\n",
    "    i = 0 \n",
    "    \n",
    "    while i < N:\n",
    "        R2 = np.random.uniform(0,max_f) \n",
    "        R1 = np.random.uniform(0,200000,1)\n",
    "        if R2 < f(R1):\n",
    "            X[i] = R1\n",
    "            i+=1\n",
    "    return X\n",
    "\n",
    "\n",
    "f = func_muertos # funcion\n",
    "N = 1000 # numero de variables que distribuyen como f a generar\n",
    "\n",
    "# Usar func anteriormente definida como acep_rechazo_aleatorias que genera variables aleatorias\n",
    "var_aleatorias_montecarlo_m = acep_rechazo_muertos(f,max_fm,N)\n",
    "len(var_aleatorias_montecarlo_m)"
   ]
  },
  {
   "cell_type": "code",
   "execution_count": 44,
   "metadata": {},
   "outputs": [
    {
     "data": {
      "image/png": "[encoded data removed]",
      "text/plain": [
       "<Figure size 432x288 with 1 Axes>"
      ]
     },
     "metadata": {
      "needs_background": "light"
     },
     "output_type": "display_data"
    }
   ],
   "source": [
    "x = np.arange(0,200000,100)\n",
    "plt.figure()\n",
    "plt.plot(x,f(x))\n",
    "plt.hist(var_aleatorias_montecarlo_m,bins = 70,density = True);\n",
    "plt.show()"
   ]
  },
  {
   "cell_type": "markdown",
   "metadata": {},
   "source": [
    "#### Generacion de variables aleatorias por medio de reduccion de varianza \n",
    "\n",
    "Nota: El hecho de utilizar tecnicas de reduccion de varianza no tendria sentido a la hora de utilizar el metodo de aceptacion rechazo, debido a que, como el metodo se basa en generar variables por medio del metodo de prueba y error, es decir, algunas variables aleatorias generadas las toma y otras no, dependiendo de si estan dentro de f(x), por lo cual, el numero y rango de las variables aleatorias que si toma depende de la aleatoriedad de los datos, mientras que los dos metodos de reduccion de varianza (numeros complementarias y estratificado) necesitan una cantidad definida de N variables a generar para estratificar la muestra, asi que no tiene sentido juntar ambos metodos por las siguientes razones:\n",
    "\n",
    "* Al ser el metodo de aceptacion rechazo dependiente de la cantidad que acepte y/o no acepte, no se puede definir una N de variables que se generaran para probar, cosa que necesitan los metodos de reduccion de varianza.\n",
    "* Suponiendo que se aplique el metodo hay cierto grado de posibilidad de que se acepte ciertas variables en un rango y en otro no, cosa que podria causar un sesgo en los resultados y ocasionando que las variables no necesariamente distribuyan como la f(x)\n",
    "\n",
    "Conclusion: Si bien las tecnicas de reduccion de varianza son muy utiles y optimas para el caso en el cual generes variables aleatorias por medio del metodo de la transformada inversa, no es tan util para utilizar con el metdoo de aceptacion y rechazo."
   ]
  },
  {
   "cell_type": "code",
   "execution_count": 45,
   "metadata": {},
   "outputs": [
    {
     "name": "stdout",
     "output_type": "stream",
     "text": [
      "Con una confianza de 0.95 la media del numero de muertos estará en el intervalo t,\n",
      " (89988.50409025613, 97910.12630319984)\n",
      "Con una confianza de 0.95 la media del numero de muertos estará en el intervalo normal,\n",
      " (89993.30281457756, 97905.32757887841)\n",
      "Media calculada del numero de muertos 93949.31519672798\n"
     ]
    }
   ],
   "source": [
    "# Intervalos de confianza y media de los datos\n",
    "X = var_aleatorias_montecarlo_m\n",
    "N = 10**6\n",
    "confianza = 0.95\n",
    "i1 = st.t.interval(confianza,len(X)-1, loc=np.mean(X), scale=st.sem(X))\n",
    "i2 = st.norm.interval(confianza, loc=np.mean(X), scale=st.sem(X))\n",
    "media_muertos= np.mean(X)\n",
    "print('Con una confianza de %2.2f la media del numero de muertos estará en el intervalo t,\\n %s' %(confianza,i1))\n",
    "print('Con una confianza de %2.2f la media del numero de muertos estará en el intervalo normal,\\n %s' %(confianza,i2))\n",
    "print('Media calculada del numero de muertos' ,media_muertos)"
   ]
  },
  {
   "cell_type": "code",
   "execution_count": 46,
   "metadata": {},
   "outputs": [
    {
     "name": "stdout",
     "output_type": "stream",
     "text": [
      "El porcentaje de error entre la media real y la media estimada con montecarlo fue de 10.515622360887683 %\n"
     ]
    }
   ],
   "source": [
    "error_muertos = abs(np.array(clean_data['death']).mean() - media_muertos)/media_muertos\n",
    "print('El porcentaje de error entre la media real y la media estimada con montecarlo fue de', error_muertos*100,'%')"
   ]
  },
  {
   "cell_type": "markdown",
   "metadata": {},
   "source": [
    "### OBJETIVO SECUNDARIO: Encontrar por medio de la simulación de Montecarlo la probabilidad de morirse en caso de estar infectado."
   ]
  },
  {
   "cell_type": "code",
   "execution_count": 47,
   "metadata": {},
   "outputs": [
    {
     "name": "stdout",
     "output_type": "stream",
     "text": [
      "La probabilidad de morirse en caso de ser positivo en usa es de: 3.7726546385322446 %\n"
     ]
    }
   ],
   "source": [
    "print('La probabilidad de morirse en caso de ser positivo en usa es de:', (media_muertos/media_positivos)*100,'%')"
   ]
  },
  {
   "cell_type": "markdown",
   "metadata": {},
   "source": [
    "## Simulacion para escenario 3: **Hospitalizados**"
   ]
  },
  {
   "cell_type": "markdown",
   "metadata": {},
   "source": [
    "## Simulacion para escenario 4: **Recuperados**"
   ]
  },
  {
   "cell_type": "markdown",
   "metadata": {},
   "source": [
    "## Modelo prediccion de infectados (positivos) en USA"
   ]
  },
  {
   "cell_type": "markdown",
   "metadata": {},
   "source": [
    "## <center> <font color='navy'> Conclusion <center> <font color='navy'>"
   ]
  }
 ],
 "metadata": {
  "kernelspec": {
   "display_name": "Python 3",
   "language": "python",
   "name": "python3"
  },
  "language_info": {
   "codemirror_mode": {
    "name": "ipython",
    "version": 3
   },
   "file_extension": ".py",
   "mimetype": "text/x-python",
   "name": "python",
   "nbconvert_exporter": "python",
   "pygments_lexer": "ipython3",
   "version": "3.8.3"
  }
 },
 "nbformat": 4,
 "nbformat_minor": 4
}
